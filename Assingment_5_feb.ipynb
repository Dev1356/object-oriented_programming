{
 "cells": [
  {
   "cell_type": "markdown",
   "id": "c4526263-bc55-4ca0-bfb9-1f0386ced10a",
   "metadata": {},
   "source": [
    "__Q1. Explain Class and Object with respect to Object-Oriented Programming. Give a suitable example.__"
   ]
  },
  {
   "cell_type": "markdown",
   "id": "35444340-3ead-4181-94e8-490875222404",
   "metadata": {},
   "source": [
    "In object-oriented programming (OOP), a class is a blueprint or template for creating objects. It defines a set of attributes (data members) and methods (functions) that are common to all objects of that class. An object, on the other hand, is an instance of a class. It represents a specific entity or concept that has its own unique set of attributes and behavior.\n",
    "\n",
    "For example, let's consider a class called \"Car\". This class may have attributes such as \"make\", \"model\", \"color\", \"year\", and \"price\", and methods such as \"start\", \"accelerate\", \"brake\", and \"stop\". These attributes and methods are common to all cars.\n",
    "\n",
    "Now, suppose we create two objects of the Car class, named \"car1\" and \"car2\". We can assign different values to the attributes of each object to represent different cars. For example, car1 may have the make \"Toyota\", the model \"Corolla\", the color \"blue\", the year \"2018\", and the price \"20000\", while car2 may have the make \"Honda\", the model \"Civic\", the color \"red\", the year \"2020\", and the price \"25000\". We can then call the methods of each object to perform specific actions, such as starting the engine or accelerating.\n",
    "\n",
    "In summary, a class represents a general concept or category of objects, while an object represents a specific instance of that class with its own unique attributes and behavior."
   ]
  },
  {
   "cell_type": "code",
   "execution_count": 14,
   "id": "a4a49e7e-ff89-440c-9d56-fc31f3bf3afb",
   "metadata": {},
   "outputs": [],
   "source": [
    "class Car:\n",
    "    def __init__(self,Make,Model,Year,Price,Color):\n",
    "        self.Make=Make\n",
    "        self.Model=Model\n",
    "        self.Year=Year\n",
    "        self.Price=Price\n",
    "        self.Color=Color\n",
    "    def Returning_Car_Detailed(self):\n",
    "        return self.Make,self.Model,self.Year,self.Price,self.Color"
   ]
  },
  {
   "cell_type": "code",
   "execution_count": 15,
   "id": "b5d890b3-d9da-4c5e-90fd-7862e1143c46",
   "metadata": {},
   "outputs": [],
   "source": [
    "car1=Car(\"Toyota\",\"Innova\",2018,2600000,\"White\")\n",
    "car2=Car(\"Honda\",\"Civic\",2019,200000,\"Red\")"
   ]
  },
  {
   "cell_type": "code",
   "execution_count": 17,
   "id": "a14ea8b1-eee1-43ab-8265-76d0104b2c2f",
   "metadata": {},
   "outputs": [
    {
     "data": {
      "text/plain": [
       "('Toyota', 'Innova', 2018, 2600000, 'White')"
      ]
     },
     "execution_count": 17,
     "metadata": {},
     "output_type": "execute_result"
    }
   ],
   "source": [
    "car1.Returning_Car_Detailed()"
   ]
  },
  {
   "cell_type": "code",
   "execution_count": 18,
   "id": "f6d028ff-2714-43fc-bb00-cd8ebdab0481",
   "metadata": {},
   "outputs": [
    {
     "data": {
      "text/plain": [
       "('Honda', 'Civic', 2019, 200000, 'Red')"
      ]
     },
     "execution_count": 18,
     "metadata": {},
     "output_type": "execute_result"
    }
   ],
   "source": [
    "car2.Returning_Car_Detailed()"
   ]
  },
  {
   "cell_type": "markdown",
   "id": "41f68dfd-5b0e-45ff-bc3e-3214c84c84c7",
   "metadata": {},
   "source": [
    "___Q2. Name the four pillars of OOPs.___"
   ]
  },
  {
   "cell_type": "markdown",
   "id": "57b81fb1-4a43-4c42-9e96-9bfb4189f1b3",
   "metadata": {},
   "source": [
    "The four pillars of object-oriented programming (OOP) are:\n",
    "\n",
    "_Encapsulation_: Encapsulation refers to the practice of bundling data and methods that operate on that data within a single unit, called a class. The class provides a public interface through which other objects can interact with the data and methods, while keeping the internal implementation hidden.\n",
    "\n",
    "_Abstraction:_ Abstraction refers to the process of identifying essential features of an object and ignoring the non-essential ones. It allows us to model complex systems in a simplified way, by focusing on the most important aspects of the system.\n",
    "\n",
    "_Inheritance:_ Inheritance is a mechanism that allows a class to inherit properties and behavior from a parent class. This can help to reduce code duplication and make code easier to maintain.\n",
    "\n",
    "_Polymorphism:_ Polymorphism refers to the ability of objects to take on multiple forms, depending on the context in which they are used. This can be achieved through method overriding or method overloading, which allows different objects to respond to the same message in different ways."
   ]
  },
  {
   "cell_type": "markdown",
   "id": "1031a968-a7cc-4082-9e72-371e35d1f3fa",
   "metadata": {},
   "source": [
    "___Q3. Explain why the __init__() function is used. Give a suitable example.___"
   ]
  },
  {
   "cell_type": "markdown",
   "id": "08d9f787-3162-4d6c-ac98-51939e6b78d2",
   "metadata": {},
   "source": [
    "In Python, the __init__() function is a special method that is called when an object of a class is created. It is used to initialize the attributes of the object with default or user-defined values. It can also be used to perform any other setup actions that are necessary for the object to function properly.\n",
    "\n",
    "Here's an example to illustrate how __init__() works:"
   ]
  },
  {
   "cell_type": "code",
   "execution_count": 20,
   "id": "fb26c9af-30b8-49d4-a3ef-b7d8a97960a4",
   "metadata": {},
   "outputs": [],
   "source": [
    "class Person:\n",
    "    def __init__(self, name, age):\n",
    "        self.name = name\n",
    "        self.age = age\n",
    "\n",
    "person1 = Person(\"Alice\", 25)\n",
    "person2 = Person(\"Bob\", 30)"
   ]
  },
  {
   "cell_type": "code",
   "execution_count": 22,
   "id": "0b23b881-00e5-49ff-bca1-d053acf0883b",
   "metadata": {},
   "outputs": [
    {
     "data": {
      "text/plain": [
       "'Alice'"
      ]
     },
     "execution_count": 22,
     "metadata": {},
     "output_type": "execute_result"
    }
   ],
   "source": [
    "person1.name"
   ]
  },
  {
   "cell_type": "code",
   "execution_count": 23,
   "id": "f7cff28d-a264-40cd-aee0-226fa997441d",
   "metadata": {},
   "outputs": [
    {
     "data": {
      "text/plain": [
       "'Bob'"
      ]
     },
     "execution_count": 23,
     "metadata": {},
     "output_type": "execute_result"
    }
   ],
   "source": [
    "person2.name"
   ]
  },
  {
   "cell_type": "markdown",
   "id": "f79f1825-ccb1-4d54-ad89-76a955587b79",
   "metadata": {},
   "source": [
    "In this example, we define a Person class with an __init__() method that takes two parameters, name and age. When we create an object of the Person class, we pass in values for name and age as arguments, which are then used to initialize the corresponding attributes of the object.\n",
    "\n",
    "In this case, person1 is initialized with name=\"Alice\" and age=25, while person2 is initialized with name=\"Bob\" and age=30.\n",
    "\n",
    "Without the __init__() method, we would have to manually set the values of the attributes after creating the object:"
   ]
  },
  {
   "cell_type": "code",
   "execution_count": 24,
   "id": "5bef835a-9c81-402c-bba0-a35c639bc145",
   "metadata": {},
   "outputs": [],
   "source": [
    "class Person:\n",
    "    pass\n",
    "\n",
    "person1 = Person()\n",
    "person1.name = \"Alice\"\n",
    "person1.age = 25\n",
    "\n",
    "person2 = Person()\n",
    "person2.name = \"Bob\"\n",
    "person2.age = 30"
   ]
  },
  {
   "cell_type": "markdown",
   "id": "59bea329-09ce-40d6-a654-4dc79d2cb7c1",
   "metadata": {},
   "source": [
    "This approach can be error-prone and cumbersome, especially if the class has many attributes or if the attributes have complex default values. Using __init__() makes it easier to ensure that objects are properly initialized and reduces the risk of errors."
   ]
  },
  {
   "cell_type": "markdown",
   "id": "1e3ac91f-6eb6-451f-b897-7b89b5647f2a",
   "metadata": {},
   "source": [
    "___Q4. Why self is used in OOPs?___"
   ]
  },
  {
   "cell_type": "markdown",
   "id": "8c8256dc-e5f3-4d07-a508-13dc1b045e46",
   "metadata": {},
   "source": [
    "The self keyword is used in Python to represent the instance of the current object. It is used:\n",
    "\n",
    "1.To access the attributes and methods of the current object. For example:"
   ]
  },
  {
   "cell_type": "code",
   "execution_count": 1,
   "id": "bd87285b-e046-48b4-a0a6-d30fae5cb43d",
   "metadata": {},
   "outputs": [],
   "source": [
    "class Person:\n",
    "    def __init__(self, name, age):\n",
    "        self.name = name\n",
    "        self.age = age\n",
    "        \n",
    "    def greet(self):\n",
    "        print(f\"Hello, I'm {self.name} and I'm {self.age} years old!\")"
   ]
  },
  {
   "cell_type": "code",
   "execution_count": 11,
   "id": "70046c31-2523-4911-92ec-a800b4d7db65",
   "metadata": {},
   "outputs": [
    {
     "name": "stdout",
     "output_type": "stream",
     "text": [
      "Hello, I'm Rohan and I'm 22 years old!\n"
     ]
    }
   ],
   "source": [
    "P1=Person(\"Rohan\",22)\n",
    "P1.greet()\n"
   ]
  },
  {
   "cell_type": "markdown",
   "id": "af2738ab-663a-4064-95a3-8bdea6f88226",
   "metadata": {},
   "source": [
    "####Here, self.name and self.age are used to access the name and age attributes of the Person object.\n",
    "\n",
    "2.To pass the current object as an argument to a method. For example:"
   ]
  },
  {
   "cell_type": "code",
   "execution_count": 12,
   "id": "f5f70b28-e989-42ee-b940-e11877a15d24",
   "metadata": {},
   "outputs": [],
   "source": [
    "class Person:\n",
    "    def __init__(self, name, age):\n",
    "        self.name = name\n",
    "        self.age = age\n",
    "        \n",
    "    def increment_age(self):\n",
    "        self.age += 1\n",
    "        \n",
    "    def greet(self):\n",
    "        print(f\"Hello, I'm {self.name} and I'm {self.age} years old!\")"
   ]
  },
  {
   "cell_type": "code",
   "execution_count": 15,
   "id": "5f0afb5d-bfff-4466-be01-2f7c9f429c80",
   "metadata": {},
   "outputs": [
    {
     "name": "stdout",
     "output_type": "stream",
     "text": [
      "Hello, I'm Rohan and I'm 23 years old!\n"
     ]
    }
   ],
   "source": [
    "P1=Person(\"Rohan\",22)\n",
    "P1.increment_age()\n",
    "P1.greet()"
   ]
  },
  {
   "cell_type": "markdown",
   "id": "c44d62cc-c5cf-4495-aa50-9be97983a12a",
   "metadata": {},
   "source": [
    "###Here, self is passed as an argument to the increment_age() method, which then modifies the age attribute of the Person object.\n",
    "\n",
    "So in summary, self represents the instance of the current object and is used to access and manipulate the attributes and methods of that object. This is a key part of object oriented programming in Python."
   ]
  },
  {
   "cell_type": "markdown",
   "id": "3f2ad5c6-b467-4179-9bb9-175b0d26a05b",
   "metadata": {},
   "source": [
    "___Q5. What is inheritance? Give an example for each type of inheritance.___\n",
    "<br>Ans.n object-oriented programming, inheritance is a mechanism where a new class (derived class) is created from an existing class (base or parent class) by inheriting its properties and methods. This allows the derived class to reuse the code and functionality of the base class, and also add its own unique properties and methods."
   ]
  },
  {
   "cell_type": "code",
   "execution_count": 17,
   "id": "30f821b9-ca79-492b-902c-26e09744ebde",
   "metadata": {},
   "outputs": [
    {
     "name": "stdout",
     "output_type": "stream",
     "text": [
      "Rex\n",
      "Woof!\n"
     ]
    }
   ],
   "source": [
    "class Animal:\n",
    "    def __init__(self, name):\n",
    "        self.name = name\n",
    "\n",
    "    def speak(self):\n",
    "        pass\n",
    "\n",
    "class Dog(Animal):\n",
    "    def speak(self):\n",
    "        return \"Woof!\"\n",
    "\n",
    "my_dog = Dog(\"Rex\")\n",
    "print(my_dog.name)  # Output: Rex\n",
    "print(my_dog.speak())  # Output: Woof!"
   ]
  },
  {
   "cell_type": "markdown",
   "id": "e6a9c489-f4ac-471c-a91f-928f04d98c09",
   "metadata": {},
   "source": [
    "Here, Dog is a derived class that inherits from the Animal base class. It inherits the name attribute from the Animal class and defines its own speak() method."
   ]
  },
  {
   "cell_type": "code",
   "execution_count": null,
   "id": "882143fb-4537-4591-80f2-691d895d4211",
   "metadata": {},
   "outputs": [],
   "source": []
  }
 ],
 "metadata": {
  "kernelspec": {
   "display_name": "Python 3 (ipykernel)",
   "language": "python",
   "name": "python3"
  },
  "language_info": {
   "codemirror_mode": {
    "name": "ipython",
    "version": 3
   },
   "file_extension": ".py",
   "mimetype": "text/x-python",
   "name": "python",
   "nbconvert_exporter": "python",
   "pygments_lexer": "ipython3",
   "version": "3.10.8"
  }
 },
 "nbformat": 4,
 "nbformat_minor": 5
}
